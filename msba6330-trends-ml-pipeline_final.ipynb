{
 "cells": [
  {
   "cell_type": "markdown",
   "metadata": {},
   "source": [
    "##### Initializing the necessary libraries for building our ML Pipeline"
   ]
  },
  {
   "cell_type": "code",
   "execution_count": 8,
   "metadata": {
    "_cell_guid": "b1076dfc-b9ad-4769-8c92-a6c4dae69d19",
    "_uuid": "8f2839f25d086af736a60e9eeb907d3b93b6e0e5",
    "execution": {
     "iopub.execute_input": "2022-04-29T23:26:47.405110Z",
     "iopub.status.busy": "2022-04-29T23:26:47.404763Z",
     "iopub.status.idle": "2022-04-29T23:26:48.511198Z",
     "shell.execute_reply": "2022-04-29T23:26:48.510443Z",
     "shell.execute_reply.started": "2022-04-29T23:26:47.405017Z"
    }
   },
   "outputs": [],
   "source": [
    "# Import general purpose modules\n",
    "import matplotlib.pyplot as plt\n",
    "import pandas as pd\n",
    "import numpy as np\n",
    "import math\n",
    "from sklearn.model_selection import train_test_split\n",
    "import sagemaker\n",
    "from sagemaker.xgboost.estimator import XGBoost\n",
    "from sagemaker.inputs import TrainingInput\n",
    "import boto3\n",
    "from sagemaker.serializers import CSVSerializer\n",
    "from sklearn.metrics import classification_report, confusion_matrix\n",
    "from sklearn.preprocessing import LabelEncoder\n",
    "import warnings\n",
    "warnings.filterwarnings('ignore')"
   ]
  },
  {
   "cell_type": "markdown",
   "metadata": {},
   "source": [
    "### Loading the Training data\n",
    "#### Since the training dataset is ~6GB in volume, we have implemented batching while loading the data into memory. More specifically, we have imported the data chunk by chunk and later concatenated all the chunks into a single consolidated dataframe."
   ]
  },
  {
   "cell_type": "code",
   "execution_count": 2,
   "metadata": {
    "execution": {
     "iopub.execute_input": "2022-04-29T23:26:54.750130Z",
     "iopub.status.busy": "2022-04-29T23:26:54.749369Z",
     "iopub.status.idle": "2022-04-29T23:30:19.702750Z",
     "shell.execute_reply": "2022-04-29T23:30:19.701835Z",
     "shell.execute_reply.started": "2022-04-29T23:26:54.750088Z"
    }
   },
   "outputs": [
    {
     "name": "stdout",
     "output_type": "stream",
     "text": [
      "Processing Chunk No. 1\n",
      "Processing Chunk No. 2\n",
      "Processing Chunk No. 3\n",
      "Processing Chunk No. 4\n",
      "Processing Chunk No. 5\n",
      "Processing Chunk No. 6\n",
      "Processing Chunk No. 7\n",
      "Processing Chunk No. 8\n",
      "Processing Chunk No. 9\n",
      "Processing Chunk No. 10\n",
      "Processing Chunk No. 11\n",
      "Processing Chunk No. 12\n",
      "Processing Chunk No. 13\n",
      "Processing Chunk No. 14\n",
      "Processing Chunk No. 15\n",
      "Processing Chunk No. 16\n",
      "Processing Chunk No. 17\n",
      "Processing Chunk No. 18\n",
      "Processing Chunk No. 19\n",
      "Processing Chunk No. 20\n",
      "Processing Chunk No. 21\n",
      "Processing Chunk No. 22\n",
      "Processing Chunk No. 23\n",
      "Processing Chunk No. 24\n",
      "Processing Chunk No. 25\n",
      "Processing Chunk No. 26\n",
      "Processing Chunk No. 27\n",
      "Processing Chunk No. 28\n",
      "Processing Chunk No. 29\n",
      "Processing Chunk No. 30\n",
      "Processing Chunk No. 31\n",
      "Processing Chunk No. 32\n",
      "Processing Chunk No. 33\n",
      "Processing Chunk No. 34\n",
      "Processing Chunk No. 35\n",
      "Processing Chunk No. 36\n",
      "Processing Chunk No. 37\n",
      "Processing Chunk No. 38\n",
      "Processing Chunk No. 39\n",
      "Processing Chunk No. 40\n",
      "Processing Chunk No. 41\n"
     ]
    },
    {
     "data": {
      "text/plain": [
       "8085793"
      ]
     },
     "execution_count": 2,
     "metadata": {},
     "output_type": "execute_result"
    }
   ],
   "source": [
    "data_location = 's3://msba6330-group1/result_files/train.csv'\n",
    "chunksize = 10 ** 6\n",
    "num_of_chunk = 0\n",
    "train = pd.DataFrame()\n",
    "\n",
    "for chunk in pd.read_csv(data_location, chunksize = chunksize):\n",
    "    num_of_chunk += 1\n",
    "    train = pd.concat([train, chunk.sample(frac=1, replace=False, random_state=123)], axis=0)\n",
    "    print('Processing Chunk No. ' + str(num_of_chunk))     \n",
    "    \n",
    "train.reset_index(inplace=True)\n",
    "\n",
    "train_len = len(train)\n",
    "train_len\n"
   ]
  },
  {
   "cell_type": "markdown",
   "metadata": {},
   "source": [
    "##### Dropping Irrelevant columns from training as well as testing sets, for example:\n",
    "##### 1 - index: This is an irrelevant column that is just an identifier\n",
    "##### 2 - id: This is an irrelevant column that is just an identifier for Advertisements"
   ]
  },
  {
   "cell_type": "code",
   "execution_count": 3,
   "metadata": {
    "execution": {
     "iopub.execute_input": "2022-04-29T23:30:31.915067Z",
     "iopub.status.busy": "2022-04-29T23:30:31.914777Z",
     "iopub.status.idle": "2022-04-29T23:30:34.347698Z",
     "shell.execute_reply": "2022-04-29T23:30:34.346769Z",
     "shell.execute_reply.started": "2022-04-29T23:30:31.915028Z"
    }
   },
   "outputs": [],
   "source": [
    "train.drop(['index', 'id'], axis=1, inplace = True)"
   ]
  },
  {
   "cell_type": "markdown",
   "metadata": {},
   "source": [
    "##### Let us look at the various columns present in our training and testing data"
   ]
  },
  {
   "cell_type": "code",
   "execution_count": 5,
   "metadata": {
    "execution": {
     "iopub.execute_input": "2022-04-29T23:32:48.456283Z",
     "iopub.status.busy": "2022-04-29T23:32:48.455330Z",
     "iopub.status.idle": "2022-04-29T23:32:48.461897Z",
     "shell.execute_reply": "2022-04-29T23:32:48.461081Z",
     "shell.execute_reply.started": "2022-04-29T23:32:48.456237Z"
    }
   },
   "outputs": [
    {
     "name": "stdout",
     "output_type": "stream",
     "text": [
      "Columns present in Training Dataset are:\n",
      " ['click', 'hour', 'C1', 'banner_pos', 'site_id', 'site_domain', 'site_category', 'app_id', 'app_domain', 'app_category', 'device_id', 'device_ip', 'device_model', 'device_type', 'device_conn_type', 'C14', 'C15', 'C16', 'C17', 'C18', 'C19', 'C20', 'C21']\n"
     ]
    }
   ],
   "source": [
    "print('Columns present in Training Dataset are:\\n',train.columns.to_list())"
   ]
  },
  {
   "cell_type": "markdown",
   "metadata": {},
   "source": [
    "### Now that we have our training and testing data, let us initialize our ML pipeline"
   ]
  },
  {
   "cell_type": "markdown",
   "metadata": {},
   "source": [
    "##### We will be training a tree-based XGBoost model on our training set and making predictions on the test data post training. First, let's start with creating our training and testing sets to quantify the model performance"
   ]
  },
  {
   "cell_type": "markdown",
   "metadata": {},
   "source": [
    "##### Since XGBoost does not organically support categorical columns such as the device_type and app_type present in our data, we will process those columns so that the model can be trained "
   ]
  },
  {
   "cell_type": "code",
   "execution_count": 6,
   "metadata": {
    "execution": {
     "iopub.execute_input": "2022-04-29T23:32:53.087003Z",
     "iopub.status.busy": "2022-04-29T23:32:53.086299Z",
     "iopub.status.idle": "2022-04-29T23:33:49.592439Z",
     "shell.execute_reply": "2022-04-29T23:33:49.591620Z",
     "shell.execute_reply.started": "2022-04-29T23:32:53.086948Z"
    }
   },
   "outputs": [],
   "source": [
    "lbl = LabelEncoder()\n",
    "\n",
    "train['site_id'] = lbl.fit_transform(train['site_id'].astype(str))\n",
    "train['site_domain'] = lbl.fit_transform(train['site_domain'].astype(str))\n",
    "train['site_category'] = lbl.fit_transform(train['site_category'].astype(str))\n",
    "train['app_id'] = lbl.fit_transform(train['app_id'].astype(str))\n",
    "train['app_domain'] = lbl.fit_transform(train['app_domain'].astype(str))\n",
    "train['app_category'] = lbl.fit_transform(train['app_category'].astype(str))\n",
    "train['device_id'] = lbl.fit_transform(train['device_id'].astype(str))\n",
    "train['device_ip'] = lbl.fit_transform(train['device_ip'].astype(str))\n",
    "train['device_model'] = lbl.fit_transform(train['device_model'].astype(str))"
   ]
  },
  {
   "cell_type": "code",
   "execution_count": 7,
   "metadata": {
    "execution": {
     "iopub.execute_input": "2022-04-29T23:33:56.535336Z",
     "iopub.status.busy": "2022-04-29T23:33:56.534747Z",
     "iopub.status.idle": "2022-04-29T23:34:01.701729Z",
     "shell.execute_reply": "2022-04-29T23:34:01.700793Z",
     "shell.execute_reply.started": "2022-04-29T23:33:56.535295Z"
    }
   },
   "outputs": [],
   "source": [
    "# All predictor variables\n",
    "x = train.loc[:, ~train.columns.isin(['click'])]\n",
    "y = train.loc[:, train.columns.isin(['click'])]\n",
    "\n",
    "x_train, x_test, y_train, y_test = train_test_split(x, y, test_size=0.20, random_state=93)"
   ]
  },
  {
   "cell_type": "markdown",
   "metadata": {},
   "source": [
    "##### Initializing the XGBoost classifier and defining the hyperparameter search space"
   ]
  },
  {
   "cell_type": "code",
   "execution_count": 12,
   "metadata": {
    "execution": {
     "iopub.execute_input": "2022-04-29T23:35:26.684858Z",
     "iopub.status.busy": "2022-04-29T23:35:26.684528Z",
     "iopub.status.idle": "2022-04-30T00:39:04.500885Z",
     "shell.execute_reply": "2022-04-30T00:39:04.499856Z",
     "shell.execute_reply.started": "2022-04-29T23:35:26.684823Z"
    }
   },
   "outputs": [
    {
     "name": "stdout",
     "output_type": "stream",
     "text": [
      "[23:35:31] WARNING: ../src/learner.cc:627: \n",
      "Parameters: { \"class_weight\" } might not be used.\n",
      "\n",
      "  This could be a false alarm, with some parameters getting used by language bindings but\n",
      "  then being mistakenly passed down to XGBoost core, or some parameter actually being used\n",
      "  but getting flagged wrongly here. Please open an issue if you find any such cases.\n",
      "\n",
      "\n"
     ]
    }
   ],
   "source": [
    "containers = {\n",
    "                'us-west-2': '433757028032.dkr.ecr.us-west-2.amazonaws.com/xgboost:latest',\n",
    "              'us-east-1': '811284229777.dkr.ecr.us-east-1.amazonaws.com/xgboost:latest',\n",
    "              'us-east-2': '825641698319.dkr.ecr.us-east-2.amazonaws.com/xgboost:latest',\n",
    "              'eu-west-1': '685385470294.dkr.ecr.eu-west-1.amazonaws.com/xgboost:latest'\n",
    "}\n",
    "role = get_execution_role()\n",
    "sess = sagemaker.Session()\n",
    "xgb = sagemaker.estimator.Estimator(containers[boto3.Session().region_name],\n",
    "                                    role, \n",
    "                                    instance_count=1, \n",
    "                                    instance_type='ml.m4.xlarge',\n",
    "                                    output_path='s3://msba6330-group1/result_files',\n",
    "                                    sagemaker_session=sess)\n",
    "xgb.set_hyperparameters(eta=0.1, objective='binary:logistic', num_round=25,class_weight = 'balanced', n_jobs=-1, n_estimators=500, max_depth=11, verbose = True) \n",
    "s3_input_train = TrainingInput(s3_data='s3://msba6330-group1/result_files/train.csv', content_type='csv')\n",
    "xgb.fit({'train': s3_input_train})"
   ]
  },
  {
   "cell_type": "markdown",
   "metadata": {},
   "source": [
    "##### Making predictions on the test data"
   ]
  },
  {
   "cell_type": "code",
   "execution_count": 14,
   "metadata": {
    "execution": {
     "iopub.execute_input": "2022-04-30T00:40:12.010643Z",
     "iopub.status.busy": "2022-04-30T00:40:12.010306Z",
     "iopub.status.idle": "2022-04-30T00:41:19.080697Z",
     "shell.execute_reply": "2022-04-30T00:41:19.079821Z",
     "shell.execute_reply.started": "2022-04-30T00:40:12.010600Z"
    }
   },
   "outputs": [],
   "source": [
    "xgb_predictor = xgb.deploy(\n",
    "    initial_instance_count = 1,\n",
    "    instance_type = 'ml.m4.xlarge',\n",
    "    serializer = CSVSerializer())\n",
    "\n",
    "y_pred = xgb.predict(x_test)\n",
    "y_pred_probs = xgb.predict_proba(x_test)[:,1]\n"
   ]
  },
  {
   "cell_type": "markdown",
   "metadata": {},
   "source": [
    "### Now that we have made the predictions, let us discuss the model performance in detail"
   ]
  },
  {
   "cell_type": "markdown",
   "metadata": {},
   "source": [
    "##### Performance Measure 1 - Classification Report"
   ]
  },
  {
   "cell_type": "code",
   "execution_count": 15,
   "metadata": {
    "execution": {
     "iopub.execute_input": "2022-04-30T00:48:08.740265Z",
     "iopub.status.busy": "2022-04-30T00:48:08.739723Z",
     "iopub.status.idle": "2022-04-30T00:48:11.973223Z",
     "shell.execute_reply": "2022-04-30T00:48:11.972299Z",
     "shell.execute_reply.started": "2022-04-30T00:48:08.740223Z"
    }
   },
   "outputs": [
    {
     "name": "stdout",
     "output_type": "stream",
     "text": [
      "              precision    recall  f1-score   support\n",
      "\n",
      "           0       0.84      0.98      0.91   1342387\n",
      "           1       0.56      0.11      0.18    274772\n",
      "\n",
      "    accuracy                           0.83   1617159\n",
      "   macro avg       0.70      0.55      0.55   1617159\n",
      "weighted avg       0.79      0.83      0.78   1617159\n",
      "\n"
     ]
    }
   ],
   "source": [
    "print(classification_report(y_test, y_pred))"
   ]
  },
  {
   "cell_type": "markdown",
   "metadata": {},
   "source": [
    "##### Performance Measure 2 - ROC Curve (with AUC Score)"
   ]
  },
  {
   "cell_type": "code",
   "execution_count": 17,
   "metadata": {
    "execution": {
     "iopub.execute_input": "2022-04-30T00:48:53.161391Z",
     "iopub.status.busy": "2022-04-30T00:48:53.160888Z",
     "iopub.status.idle": "2022-04-30T00:49:27.629833Z",
     "shell.execute_reply": "2022-04-30T00:49:27.629126Z",
     "shell.execute_reply.started": "2022-04-30T00:48:53.161350Z"
    }
   },
   "outputs": [
    {
     "name": "stdout",
     "output_type": "stream",
     "text": [
      "Area under the ROC curve (AUC) :  0.7529740397900867\n",
      "ROC Curve\n"
     ]
    },
    {
     "data": {
      "text/plain": [
       "<sklearn.metrics._plot.roc_curve.RocCurveDisplay at 0x7fbaf1353290>"
      ]
     },
     "execution_count": 17,
     "metadata": {},
     "output_type": "execute_result"
    },
    {
     "data": {
      "text/plain": [
       "<Figure size 432x288 with 0 Axes>"
      ]
     },
     "metadata": {},
     "output_type": "display_data"
    },
    {
     "data": {
      "image/png": "[encoded data removed]",
      "text/plain": [
       "<Figure size 432x288 with 1 Axes>"
      ]
     },
     "metadata": {
      "needs_background": "light"
     },
     "output_type": "display_data"
    }
   ],
   "source": [
    "np.set_printoptions(precision=2)\n",
    "print('Area under the ROC curve (AUC) : ',roc_auc_score(y_test, y_pred_probs))\n",
    "print('ROC Curve')\n",
    "plt.figure()\n",
    "plot_roc_curve(xgb_clf, x_test, y_test)"
   ]
  }
 ],
 "metadata": {
  "instance_type": "ml.t3.medium",
  "kernelspec": {
   "display_name": "Python 3",
   "language": "python",
   "name": "python3"
  },
  "language_info": {
   "codemirror_mode": {
    "name": "ipython",
    "version": 3
   },
   "file_extension": ".py",
   "mimetype": "text/x-python",
   "name": "python",
   "nbconvert_exporter": "python",
   "pygments_lexer": "ipython3",
   "version": "3.7.10"
  }
 },
 "nbformat": 4,
 "nbformat_minor": 4
}
